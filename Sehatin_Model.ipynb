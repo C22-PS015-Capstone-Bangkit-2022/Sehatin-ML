{
  "nbformat": 4,
  "nbformat_minor": 0,
  "metadata": {
    "colab": {
      "name": "Machine_Learning_Model.ipynb",
      "provenance": [],
      "collapsed_sections": []
    },
    "kernelspec": {
      "name": "python3",
      "display_name": "Python 3"
    },
    "language_info": {
      "name": "python"
    },
    "accelerator": "GPU"
  },
  "cells": [
    {
      "cell_type": "code",
      "execution_count": 1,
      "metadata": {
        "id": "n9b37eipg8yx"
      },
      "outputs": [],
      "source": [
        "import numpy as np\n",
        "import pandas as pd\n",
        "import matplotlib.pyplot as plt"
      ]
    },
    {
      "cell_type": "code",
      "source": [
        "from google.colab import drive\n",
        "drive.mount('/content/drive')"
      ],
      "metadata": {
        "colab": {
          "base_uri": "https://localhost:8080/"
        },
        "id": "es-weugCpQk9",
        "outputId": "cfb62362-928d-4478-8d10-52b8195853c5"
      },
      "execution_count": 2,
      "outputs": [
        {
          "output_type": "stream",
          "name": "stdout",
          "text": [
            "Mounted at /content/drive\n"
          ]
        }
      ]
    },
    {
      "cell_type": "code",
      "source": [
        "import tensorflow as tf"
      ],
      "metadata": {
        "id": "oMFPCau9tZzA"
      },
      "execution_count": 3,
      "outputs": []
    },
    {
      "cell_type": "code",
      "source": [
        "import tensorflow_hub as hub\n",
        "from tensorflow.keras.preprocessing.image import ImageDataGenerator"
      ],
      "metadata": {
        "id": "5ylWB8o_hs4y"
      },
      "execution_count": 5,
      "outputs": []
    },
    {
      "cell_type": "code",
      "source": [
        "import zipfile\n",
        "path_to_zip_file = '/content/drive/MyDrive/Sehatin_File/sehatin-dataset-V1-splitted.zip'\n",
        "directory_to_extract_to = '/content/sehatin-dataset'\n",
        "with zipfile.ZipFile(path_to_zip_file, 'r') as zip_ref:\n",
        "  zip_ref.extractall(directory_to_extract_to)"
      ],
      "metadata": {
        "id": "WWY4CFDGs5MQ"
      },
      "execution_count": 6,
      "outputs": []
    },
    {
      "cell_type": "code",
      "source": [
        "#DEFINE IMAGE DATA GENERATOR FUNCTION FOR TRAIN, VALIDATION, TEST\n",
        "def datagen(TRAINING_DIR, VALIDATION_DIR, TESTING_DIR, TARGET_SIZE, BATCH_SIZE):\n",
        "  #TRAINING GENERATOR\n",
        "  train_datagen = ImageDataGenerator(\n",
        "    rescale=1./255,\n",
        "    rotation_range=40,\n",
        "    width_shift_range=0.2,\n",
        "    height_shift_range=0.2,\n",
        "    shear_range=0.2,\n",
        "    zoom_range=0.2,\n",
        "    horizontal_flip=True,\n",
        "    vertical_flip=True\n",
        "  )\n",
        "  train_generator = train_datagen.flow_from_directory(\n",
        "    TRAINING_DIR,\n",
        "    target_size=TARGET_SIZE,\n",
        "    batch_size=BATCH_SIZE,\n",
        "    color_mode='rgb',    \n",
        "    shuffle=True,\n",
        "    seed=42,\n",
        "    class_mode='categorical')\n",
        "  \n",
        "  #VALIDATION GENERATOR\n",
        "  valid_datagen = ImageDataGenerator(rescale=1./255)\n",
        "\n",
        "  valid_generator = valid_datagen.flow_from_directory(\n",
        "    VALIDATION_DIR,\n",
        "    target_size=TARGET_SIZE,\n",
        "    batch_size=BATCH_SIZE,\n",
        "    color_mode='rgb',\n",
        "    shuffle=False,    \n",
        "    class_mode='categorical')\n",
        "  \n",
        "  #TESTING GENERATOR\n",
        "  test_datagen = ImageDataGenerator(rescale=1./255)\n",
        "\n",
        "  test_generator = test_datagen.flow_from_directory(\n",
        "    TESTING_DIR,\n",
        "    target_size=TARGET_SIZE,\n",
        "    batch_size=BATCH_SIZE,\n",
        "    color_mode='rgb',\n",
        "    shuffle=False,    \n",
        "    class_mode='categorical')\n",
        "  \n",
        "  return train_generator, valid_generator, test_generator\n",
        "  \n"
      ],
      "metadata": {
        "id": "BiLrVq1styxy"
      },
      "execution_count": 7,
      "outputs": []
    },
    {
      "cell_type": "code",
      "source": [
        "target_size = (224, 224)\n",
        "batch_size = 32\n",
        "\n",
        "train_dir = \"/content/sehatin-dataset/sehatinV1splitted/training\"\n",
        "val_dir   = \"/content/sehatin-dataset/sehatinV1splitted/validation\"\n",
        "test_dir  = \"/content/sehatin-dataset/sehatinV1splitted/testing\"\n",
        "\n",
        "training_generator, validation_generator, testing_generator = datagen(train_dir, val_dir, test_dir, target_size, batch_size)"
      ],
      "metadata": {
        "colab": {
          "base_uri": "https://localhost:8080/"
        },
        "id": "SS3vUvI8u1kJ",
        "outputId": "e288c0a3-3a86-4abf-ad77-86fcb65c44c8"
      },
      "execution_count": 8,
      "outputs": [
        {
          "output_type": "stream",
          "name": "stdout",
          "text": [
            "Found 13906 images belonging to 76 classes.\n",
            "Found 1713 images belonging to 76 classes.\n",
            "Found 1801 images belonging to 76 classes.\n"
          ]
        }
      ]
    },
    {
      "cell_type": "code",
      "source": [
        "labels = list(training_generator.class_indices.keys())\n",
        "num_classes = len(labels)\n",
        "print(labels)\n",
        "print(\"num_classes = {}\".format(num_classes))"
      ],
      "metadata": {
        "colab": {
          "base_uri": "https://localhost:8080/"
        },
        "id": "BdJaQIeRxLP8",
        "outputId": "c7fed001-3887-4d77-8a43-f742eb71e719"
      },
      "execution_count": 10,
      "outputs": [
        {
          "output_type": "stream",
          "name": "stdout",
          "text": [
            "['apple', 'apple-pie', 'asparagus', 'avocado', 'bakso', 'barley', 'bayam', 'beef', 'beverage drinks', 'blackberry', 'bluefin-tuna', 'bread', 'broccoli', 'burger', 'cake', 'cherry', 'chicken-curry', 'chicken-wings', 'corn', 'cucumber', 'donut', 'dragon-fruit', 'dumpling', 'egg-yolk', 'eggplant', 'french-fries', 'fried-chicken', 'fried-mushroom', 'fried-rice', 'grape', 'gulai', 'hotdog', 'ice-cream', 'jus alpukat', 'jus mangga', 'kacang camilan', 'lasagna', 'lettuce', 'lumpia', 'macaroni', 'mackerel-fillet', 'mango', 'melon-cantaloupe', 'mie-goreng', 'milk', 'noodle', 'oatmeal', 'omelette', 'onion-ring', 'oranges', 'oysters', 'pancakes', 'pear', 'pisang goreng', 'pizza', 'plain-yogurt', 'plate', 'pork-chop', 'potato', 'pudding', 'ramen', 'rice', 'salad', 'sambal', 'sate', 'sayur hijau', 'shrimp-cooked', 'soto', 'spaghetti', 'spring-roll', 'steak', 'tahu', 'tempe', 'tomato', 'waffles', 'yogurt']\n",
            "num_classes = 76\n"
          ]
        }
      ]
    },
    {
      "cell_type": "code",
      "source": [
        "keras_layer = hub.KerasLayer(\n",
        "  \"https://tfhub.dev/google/imagenet/efficientnet_v2_imagenet1k_b0/feature_vector/2\",\n",
        "  trainable=False\n",
        ")"
      ],
      "metadata": {
        "id": "2mCaT0Piz-Zw"
      },
      "execution_count": 11,
      "outputs": []
    },
    {
      "cell_type": "code",
      "source": [
        "def build_sehatin_model(pretrained, labels):\n",
        "  model = tf.keras.Sequential([\n",
        "    pretrained,\n",
        "    tf.keras.layers.Dropout(0.2),\n",
        "    tf.keras.layers.Dense(len(labels), activation=\"sigmoid\"),\n",
        "  ])\n",
        "    \n",
        "  model.compile(\n",
        "    optimizer='adam',\n",
        "    loss='categorical_crossentropy',\n",
        "    metrics=['accuracy']\n",
        "  )\n",
        "  return model"
      ],
      "metadata": {
        "id": "fNobN_jkhy5b"
      },
      "execution_count": 13,
      "outputs": []
    },
    {
      "cell_type": "code",
      "source": [
        "sehatin_model = build_sehatin_model(keras_layer, labels)\n",
        "sehatin_model.build([None, 224, 224, 3])\n",
        "sehatin_model.summary()"
      ],
      "metadata": {
        "colab": {
          "base_uri": "https://localhost:8080/"
        },
        "id": "-Fz5aOibtrxm",
        "outputId": "27280599-f078-403b-cd56-898c6beb6a10"
      },
      "execution_count": 14,
      "outputs": [
        {
          "output_type": "stream",
          "name": "stdout",
          "text": [
            "Model: \"sequential\"\n",
            "_________________________________________________________________\n",
            " Layer (type)                Output Shape              Param #   \n",
            "=================================================================\n",
            " keras_layer (KerasLayer)    (None, 1280)              5919312   \n",
            "                                                                 \n",
            " dropout (Dropout)           (None, 1280)              0         \n",
            "                                                                 \n",
            " dense (Dense)               (None, 76)                97356     \n",
            "                                                                 \n",
            "=================================================================\n",
            "Total params: 6,016,668\n",
            "Trainable params: 97,356\n",
            "Non-trainable params: 5,919,312\n",
            "_________________________________________________________________\n"
          ]
        }
      ]
    },
    {
      "cell_type": "code",
      "source": [
        "class myCallback(tf.keras.callbacks.Callback):\n",
        "    def on_epoch_end(self, epoch, logs={}):\n",
        "        if logs.get('accuracy') - logs.get('val_accuracy') > 0.1:\n",
        "            print(\"\\nStop the training due to its lead of overfitting!\")\n",
        "            self.model.stop_training = True\n",
        "\n",
        "callbacks = myCallback()"
      ],
      "metadata": {
        "id": "dfYgOXF_u63W"
      },
      "execution_count": 15,
      "outputs": []
    },
    {
      "cell_type": "code",
      "source": [
        "history = sehatin_model.fit(\n",
        "    training_generator,\n",
        "    epochs=15,\n",
        "    validation_data=validation_generator,\n",
        "    verbose=1,\n",
        "    callbacks=[callbacks]\n",
        ")"
      ],
      "metadata": {
        "colab": {
          "base_uri": "https://localhost:8080/"
        },
        "id": "cdjhVoRpmoCG",
        "outputId": "6df30177-ae46-4743-8657-2900a051c062"
      },
      "execution_count": 16,
      "outputs": [
        {
          "output_type": "stream",
          "name": "stdout",
          "text": [
            "Epoch 1/15\n",
            "  7/435 [..............................] - ETA: 5:11 - loss: 4.3329 - accuracy: 0.0402"
          ]
        },
        {
          "output_type": "stream",
          "name": "stderr",
          "text": [
            "/usr/local/lib/python3.7/dist-packages/PIL/Image.py:960: UserWarning: Palette images with Transparency expressed in bytes should be converted to RGBA images\n",
            "  \"Palette images with Transparency expressed in bytes should be \"\n"
          ]
        },
        {
          "output_type": "stream",
          "name": "stdout",
          "text": [
            "435/435 [==============================] - 436s 957ms/step - loss: 2.3821 - accuracy: 0.4402 - val_loss: 1.3796 - val_accuracy: 0.6585\n",
            "Epoch 2/15\n",
            "435/435 [==============================] - 391s 898ms/step - loss: 1.4842 - accuracy: 0.6132 - val_loss: 1.1227 - val_accuracy: 0.7104\n",
            "Epoch 3/15\n",
            "435/435 [==============================] - 429s 985ms/step - loss: 1.2630 - accuracy: 0.6602 - val_loss: 1.0176 - val_accuracy: 0.7256\n",
            "Epoch 4/15\n",
            "435/435 [==============================] - 385s 886ms/step - loss: 1.1525 - accuracy: 0.6822 - val_loss: 0.9674 - val_accuracy: 0.7315\n",
            "Epoch 5/15\n",
            "435/435 [==============================] - 385s 886ms/step - loss: 1.0819 - accuracy: 0.7021 - val_loss: 0.9398 - val_accuracy: 0.7350\n",
            "Epoch 6/15\n",
            "435/435 [==============================] - 387s 889ms/step - loss: 1.0061 - accuracy: 0.7168 - val_loss: 0.9057 - val_accuracy: 0.7507\n",
            "Epoch 7/15\n",
            "435/435 [==============================] - 385s 885ms/step - loss: 0.9606 - accuracy: 0.7272 - val_loss: 0.9010 - val_accuracy: 0.7484\n",
            "Epoch 8/15\n",
            "435/435 [==============================] - 386s 886ms/step - loss: 0.9327 - accuracy: 0.7390 - val_loss: 0.8857 - val_accuracy: 0.7455\n",
            "Epoch 9/15\n",
            "435/435 [==============================] - 385s 886ms/step - loss: 0.9094 - accuracy: 0.7399 - val_loss: 0.8681 - val_accuracy: 0.7548\n",
            "Epoch 10/15\n",
            "435/435 [==============================] - 386s 887ms/step - loss: 0.8673 - accuracy: 0.7492 - val_loss: 0.8660 - val_accuracy: 0.7402\n",
            "Epoch 11/15\n",
            "435/435 [==============================] - 386s 887ms/step - loss: 0.8449 - accuracy: 0.7577 - val_loss: 0.8508 - val_accuracy: 0.7560\n",
            "Epoch 12/15\n",
            "435/435 [==============================] - 385s 886ms/step - loss: 0.8157 - accuracy: 0.7656 - val_loss: 0.8614 - val_accuracy: 0.7601\n",
            "Epoch 13/15\n",
            "435/435 [==============================] - 387s 889ms/step - loss: 0.7934 - accuracy: 0.7666 - val_loss: 0.8405 - val_accuracy: 0.7624\n",
            "Epoch 14/15\n",
            "435/435 [==============================] - 386s 888ms/step - loss: 0.7782 - accuracy: 0.7717 - val_loss: 0.8458 - val_accuracy: 0.7554\n",
            "Epoch 15/15\n",
            "435/435 [==============================] - 387s 891ms/step - loss: 0.7591 - accuracy: 0.7748 - val_loss: 0.8343 - val_accuracy: 0.7601\n"
          ]
        }
      ]
    },
    {
      "cell_type": "code",
      "source": [
        "testing_set = sehatin_model.evaluate(testing_generator)"
      ],
      "metadata": {
        "colab": {
          "base_uri": "https://localhost:8080/"
        },
        "id": "VgFKoSOhBOE8",
        "outputId": "85079dac-836e-4338-8de8-026214834237"
      },
      "execution_count": 17,
      "outputs": [
        {
          "output_type": "stream",
          "name": "stderr",
          "text": [
            "/usr/local/lib/python3.7/dist-packages/PIL/Image.py:960: UserWarning: Palette images with Transparency expressed in bytes should be converted to RGBA images\n",
            "  \"Palette images with Transparency expressed in bytes should be \"\n"
          ]
        },
        {
          "output_type": "stream",
          "name": "stdout",
          "text": [
            "57/57 [==============================] - 31s 539ms/step - loss: 0.8053 - accuracy: 0.7651\n"
          ]
        }
      ]
    },
    {
      "cell_type": "code",
      "source": [
        "#Graph for accuracy\n",
        "plt.plot(history.history['accuracy'])\n",
        "plt.plot(history.history['val_accuracy'])\n",
        "plt.title('Accuracy Sehatin ML Model')\n",
        "plt.xlabel('epoch')\n",
        "plt.ylabel('accuracy')\n",
        "plt.legend(['training_set', 'validation_set'], loc='lower right')\n",
        "plt.show()"
      ],
      "metadata": {
        "colab": {
          "base_uri": "https://localhost:8080/",
          "height": 295
        },
        "id": "o8xQYW0r14Vw",
        "outputId": "8cf09477-802e-46ca-961c-d2009b6df2a7"
      },
      "execution_count": 18,
      "outputs": [
        {
          "output_type": "display_data",
          "data": {
            "text/plain": [
              "<Figure size 432x288 with 1 Axes>"
            ],
            "image/png": "[encoded data removed]"
          },
          "metadata": {
            "needs_background": "light"
          }
        }
      ]
    },
    {
      "cell_type": "code",
      "source": [
        "#Graph for loss\n",
        "plt.plot(history.history['loss'])\n",
        "plt.plot(history.history['val_loss'])\n",
        "plt.title('Loss Sehatin ML Model')\n",
        "plt.xlabel('epoch')\n",
        "plt.ylabel('loss')\n",
        "plt.legend(['training_set', 'validation_set'], loc='lower right')\n",
        "plt.show()"
      ],
      "metadata": {
        "colab": {
          "base_uri": "https://localhost:8080/",
          "height": 295
        },
        "id": "rW-SoJIf3OZi",
        "outputId": "aee5b890-e93c-46bf-a139-868c3f7643f7"
      },
      "execution_count": 19,
      "outputs": [
        {
          "output_type": "display_data",
          "data": {
            "text/plain": [
              "<Figure size 432x288 with 1 Axes>"
            ],
            "image/png": "[encoded data removed]"
          },
          "metadata": {
            "needs_background": "light"
          }
        }
      ]
    },
    {
      "cell_type": "code",
      "source": [
        "# SAVE AND PREPARING THE MODEL INTO TFLITE\n",
        "\n",
        "export_dir = 'content/saved_model/1'\n",
        "tf.saved_model.save(sehatin_model, export_dir)"
      ],
      "metadata": {
        "colab": {
          "base_uri": "https://localhost:8080/"
        },
        "id": "lui3UuGAPbVO",
        "outputId": "06484a95-05c1-4b4c-eabc-2350d194519f"
      },
      "execution_count": 20,
      "outputs": [
        {
          "output_type": "stream",
          "name": "stderr",
          "text": [
            "WARNING:absl:Found untraced functions such as restored_function_body, restored_function_body, restored_function_body, restored_function_body, restored_function_body while saving (showing 5 of 334). These functions will not be directly callable after loading.\n"
          ]
        },
        {
          "output_type": "stream",
          "name": "stdout",
          "text": [
            "INFO:tensorflow:Assets written to: content/saved_model/1/assets\n"
          ]
        },
        {
          "output_type": "stream",
          "name": "stderr",
          "text": [
            "INFO:tensorflow:Assets written to: content/saved_model/1/assets\n"
          ]
        }
      ]
    },
    {
      "cell_type": "code",
      "source": [
        "import shutil\n",
        "shutil.make_archive('sehatin_saved_model.zip', 'zip', '/content/content/saved_model')"
      ],
      "metadata": {
        "colab": {
          "base_uri": "https://localhost:8080/",
          "height": 35
        },
        "id": "wCHHoTLaStKe",
        "outputId": "77b0b0ff-e1f8-4657-e2bf-1179dc59c29a"
      },
      "execution_count": 22,
      "outputs": [
        {
          "output_type": "execute_result",
          "data": {
            "text/plain": [
              "'/content/sehatin_saved_model.zip.zip'"
            ],
            "application/vnd.google.colaboratory.intrinsic+json": {
              "type": "string"
            }
          },
          "metadata": {},
          "execution_count": 22
        }
      ]
    },
    {
      "cell_type": "code",
      "source": [
        "# UTILIZE THE CONVERTER TO OBTAIN TFLITE MODEL\n",
        "converter = tf.lite.TFLiteConverter.from_saved_model(export_dir)\n",
        "converter.optimizations = [tf.lite.Optimize.DEFAULT]\n",
        "tflite_model = converter.convert()"
      ],
      "metadata": {
        "colab": {
          "base_uri": "https://localhost:8080/"
        },
        "id": "Z82PYqFHSJrr",
        "outputId": "a203dd8a-daef-4313-dc1b-d4c1a2daad25"
      },
      "execution_count": 23,
      "outputs": [
        {
          "output_type": "stream",
          "name": "stderr",
          "text": [
            "WARNING:absl:Buffer deduplication procedure will be skipped when flatbuffer library is not properly loaded\n"
          ]
        }
      ]
    },
    {
      "cell_type": "code",
      "source": [
        "from pathlib import Path\n",
        "tflite_model_file = Path('./sehatin_modelV1.tflite')\n",
        "tflite_model_file.write_bytes(tflite_model)"
      ],
      "metadata": {
        "colab": {
          "base_uri": "https://localhost:8080/"
        },
        "id": "zr7eE4toSP2t",
        "outputId": "cdb0f8cc-5ad6-4d56-ebdb-2867f538563a"
      },
      "execution_count": 24,
      "outputs": [
        {
          "output_type": "execute_result",
          "data": {
            "text/plain": [
              "7028448"
            ]
          },
          "metadata": {},
          "execution_count": 24
        }
      ]
    }
  ]
}