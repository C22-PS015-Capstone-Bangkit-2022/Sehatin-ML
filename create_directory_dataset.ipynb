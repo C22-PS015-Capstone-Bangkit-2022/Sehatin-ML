{
 "cells": [
  {
   "cell_type": "code",
   "execution_count": 5,
   "metadata": {},
   "outputs": [],
   "source": [
    "import os\n",
    "import csv\n",
    "import re"
   ]
  },
  {
   "cell_type": "code",
   "execution_count": 11,
   "metadata": {},
   "outputs": [],
   "source": [
    "# DEFINE A FUNCTION TO CREATE DIR BASED ON THE LABELS\n",
    "def create_dir_dataset(labels, cur_dir):\n",
    "    for label in labels:\n",
    "        try:\n",
    "            os.makedirs(os.path.join(cur_dir, label))\n",
    "            print('success to create {} dir '.format(label))\n",
    "        except:\n",
    "            pass\n",
    "\n",
    "# DEFINE A FUNCTION TO DELETE DIR IF IT IS NOT STILL EXIST ON THE LABELS\n",
    "def check_if_deleted(cur_dir, new_labels):\n",
    "    for rootdir, dirs, files in os.walk(cur_dir):\n",
    "        for dir in dirs:\n",
    "            if dir not in new_labels:\n",
    "                try:\n",
    "                    os.rmdir(os.path.join(cur_dir, dir))\n",
    "                    print('success to remove {} dir'.format(dir))\n",
    "                except:\n",
    "                    print('any files exist in {} dir or OTHER ERROR'.format(dir))"
   ]
  },
  {
   "cell_type": "code",
   "execution_count": 12,
   "metadata": {},
   "outputs": [],
   "source": [
    "cur_dir = os.path.join(os.getcwd(), 'dataset')\n",
    "# ADJUST THE LABELS INTO THE NEW VERSION\n",
    "create_dir_dataset(labels, cur_dir)"
   ]
  },
  {
   "cell_type": "code",
   "execution_count": 41,
   "metadata": {},
   "outputs": [],
   "source": [
    "cur_dir = os.path.join(os.getcwd(), 'dataset')\n",
    "# DELETE IF ANY LABELS NOT STILL USE\n",
    "check_if_deleted(cur_dir, labels)"
   ]
  },
  {
   "cell_type": "code",
   "execution_count": null,
   "metadata": {},
   "outputs": [],
   "source": [
    "# CHECK, REPLACE AND REMOVE THE UNPROPER EXTENSION DUE TO IMAGEDATAGENERATOR REQUIREMENTS\n",
    "dataset_dir = os.path.join(os.getcwd(), 'sehatinV1') \n",
    "exts = ['jpg', 'png'] # PROPER EXTENSIONS\n",
    "index = 0\n",
    "for label in os.listdir(dataset_dir):\n",
    "    label_dir = os.path.join(dataset_dir, label)\n",
    "    for file in os.listdir(label_dir):\n",
    "        ext = re.search(r\"([a-z0-9]*).([a-z]*)$\", file)\n",
    "        if ext.group(2) not in exts:\n",
    "            if ext.group(2) == 'jpeg':\n",
    "                os.rename(os.path.join(label_dir, file), os.path.join(label_dir, str(ext.group(1))+'.jpg'))\n",
    "            else:\n",
    "                os.remove(os.path.join(label_dir, file))\n",
    "                index += 1\n",
    "print(index)"
   ]
  }
 ],
 "metadata": {
  "interpreter": {
   "hash": "671a7f089e40050282ca7daaa4243a8244d34700ec17843dd8c95db1e8588b2a"
  },
  "kernelspec": {
   "display_name": "Python 3.9.7 ('belajar')",
   "language": "python",
   "name": "python3"
  },
  "language_info": {
   "codemirror_mode": {
    "name": "ipython",
    "version": 3
   },
   "file_extension": ".py",
   "mimetype": "text/x-python",
   "name": "python",
   "nbconvert_exporter": "python",
   "pygments_lexer": "ipython3",
   "version": "3.9.7"
  },
  "orig_nbformat": 4
 },
 "nbformat": 4,
 "nbformat_minor": 2
}
